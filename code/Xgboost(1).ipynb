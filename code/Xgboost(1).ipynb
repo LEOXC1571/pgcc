{
 "cells": [
  {
   "cell_type": "code",
   "execution_count": 1,
   "metadata": {},
   "outputs": [],
   "source": [
    "import pandas as pd\n",
    "import numpy as np\n",
    "import pickle\n",
    "import xgboost as xgb\n",
    "from sklearn.preprocessing import MinMaxScaler\n",
    "from sklearn.metrics import log_loss, roc_auc_score, auc, roc_curve\n",
    "from sklearn.model_selection import train_test_split\n",
    "dataset1 = pd.read_csv('D:/MachineLearning/ofo/ofoOptimization/ProcessDataSet1.csv')\n",
    "dataset1.label.replace(-1,0,inplace=True) \n",
    "dataset2 = pd.read_csv('D:/MachineLearning/ofo/ofoOptimization/ProcessDataSet2.csv')\n",
    "dataset2.label.replace(-1,0,inplace=True)\n",
    "dataset3 = pd.read_csv('D:/MachineLearning/ofo/ofoOptimization/ProcessDataSet3.csv')\n",
    "\n",
    "dataset1.drop_duplicates(inplace=True)\n",
    "dataset2.drop_duplicates(inplace=True)\n",
    "dataset12 = pd.concat([dataset1,dataset2],axis=0)\n",
    "dataset12_y = dataset12.label\n",
    "dataset12_x = dataset12.drop(['user_id','label','day_gap_before','coupon_id','day_gap_after'],axis=1)      \n",
    "                                         \n",
    "dataset3.drop_duplicates(inplace=True)                       \n",
    "dataset3_preds = dataset3[['user_id','coupon_id','date_received']]\n",
    "dataset3_x = dataset3.drop(['user_id','coupon_id','date_received','day_gap_before','day_gap_after'],axis=1)\n",
    "\n",
    "dataTrain = xgb.DMatrix(dataset12_x,label=dataset12_y)\n",
    "dataTest = xgb.DMatrix(dataset3_x)\n",
    "\n",
    "#性能评价函数\n",
    "def myauc(test):\n",
    "    testgroup = test.groupby(['coupon_id'])\n",
    "    aucs = []\n",
    "    for i in testgroup:\n",
    "        tmpdf = i[1] \n",
    "        if len(tmpdf['label'].unique()) != 2:\n",
    "            continue\n",
    "        fpr, tpr, thresholds = roc_curve(tmpdf['label'], tmpdf['pred'], pos_label=1)\n",
    "        aucs.append(auc(fpr,tpr))\n",
    "    return np.average(aucs)\n",
    "\n",
    "\n",
    "    "
   ]
  },
  {
   "cell_type": "code",
   "execution_count": null,
   "metadata": {},
   "outputs": [],
   "source": [
    "params={'booster':'gbtree',\n",
    "\t    'objective': 'rank:pairwise',\n",
    "\t    'eval_metric':'auc',\n",
    "\t    'gamma':0.1,\n",
    "\t    'min_child_weight':1.1,\n",
    "\t    'max_depth':5,\n",
    "\t    'lambda':10,\n",
    "\t    'subsample':0.7,\n",
    "\t    'colsample_bytree':0.7,\n",
    "\t    'colsample_bylevel':0.7,\n",
    "\t    'eta': 0.01,\n",
    "\t    'tree_method':'exact',\n",
    "\t    'seed':0,\n",
    "\t    'nthread':12\n",
    "\t    }\n",
    "watchlist = [(dataTrain,'train')]\n",
    "model = xgb.train(params,dataTrain,num_boost_round=3500,evals=watchlist)\n",
    "\n",
    "model.save_model('D:/MachineLearning/ofo/ofoOptimization/xgbmodel')\n",
    "model=xgb.Booster(params)\n",
    "model.load_model('D:/MachineLearning/ofo/ofoOptimization/xgbmodel') \n",
    "#predict test set \n",
    "dataset3_preds1 = dataset3_preds\n",
    "dataset3_preds1['label'] = model.predict(dataTest)\n",
    "#标签归一化在[0，1]原作者代码这里有错\n",
    "#修改前\n",
    "#dataset3_preds.label = MinMaxScaler(copy=True,feature_range=(0,1)).fit_transform(dataset3_preds.label)\n",
    " \n",
    "#修改后\n",
    "dataset3_preds1.label = MinMaxScaler(copy=True,feature_range=(0,1)).fit_transform(dataset3_preds1.label.reshape(-1,1))\n",
    "dataset3_preds1.sort_values(by=['coupon_id','label'],inplace=True)\n",
    "dataset3_preds1.to_csv(\"D:/MachineLearning/ofo/ofoOptimization/xgb_preds.csv\",index=None,header=None)\n",
    "print(dataset3_preds1.describe())"
   ]
  },
  {
   "cell_type": "code",
   "execution_count": 3,
   "metadata": {},
   "outputs": [
    {
     "name": "stdout",
     "output_type": "stream",
     "text": [
      "0.7744070808199962\n"
     ]
    }
   ],
   "source": [
    "model=xgb.Booster()\n",
    "model.load_model('D:/MachineLearning/ofo/ofoOptimization/xgbmodel') \n",
    "\n",
    "temp = dataset12[['coupon_id','label']].copy()\n",
    "temp['pred'] =model.predict(xgb.DMatrix(dataset12_x))\n",
    "temp.pred = MinMaxScaler(copy=True,feature_range=(0,1)).fit_transform(temp['pred'].values.reshape(-1,1))\n",
    "print(myauc(temp))"
   ]
  },
  {
   "cell_type": "code",
   "execution_count": null,
   "metadata": {},
   "outputs": [],
   "source": [
    "params={'booster':'gbtree',\n",
    "\t    'objective': 'rank:pairwise',\n",
    "\t    'eval_metric':'auc',\n",
    "\t    'gamma':0.1,\n",
    "\t    'min_child_weight':1.1,\n",
    "\t    'max_depth':5,\n",
    "\t    'lambda':10,\n",
    "\t    'subsample':0.7,\n",
    "\t    'colsample_bytree':0.7,\n",
    "\t    'colsample_bylevel':0.7,\n",
    "\t    'eta': 0.01,\n",
    "\t    'tree_method':'exact',\n",
    "\t    'seed':0,\n",
    "\t    'nthread':12\n",
    "\t    }\n",
    "\n",
    "cvresult = xgb.cv(params, dataTrain, num_boost_round=20000, nfold=5, metrics='auc', seed=0, callbacks=[\n",
    "            xgb.callback.print_evaluation(show_stdv=False),\n",
    "            xgb.callback.early_stop(50)\n",
    "        ])\n",
    "num_round_best = cvresult.shape[0] - 1\n",
    "print('Best round num: ', num_round_best)\n",
    "\n",
    "watchlist = [(dataTrain,'train')]\n",
    "model1 = xgb.train(params,dataTrain,num_boost_round=num_round_best,evals=watchlist)\n",
    "\n",
    "model1.save_model('D:/MachineLearning/ofo/ofoOptimization/xgbmodel1')\n",
    "print('------------------------train done------------------------------')"
   ]
  },
  {
   "cell_type": "code",
   "execution_count": 5,
   "metadata": {},
   "outputs": [
    {
     "name": "stdout",
     "output_type": "stream",
     "text": [
      "0.8136631099198771\n"
     ]
    }
   ],
   "source": [
    "model1=xgb.Booster()\n",
    "model1.load_model('D:/MachineLearning/ofo/ofoOptimization/xgbmodel1') \n",
    "\n",
    "temp = dataset12[['coupon_id','label']].copy()\n",
    "temp['pred'] =model1.predict(xgb.DMatrix(dataset12_x))\n",
    "temp.pred = MinMaxScaler(copy=True,feature_range=(0,1)).fit_transform(temp['pred'].values.reshape(-1,1))\n",
    "print(myauc(temp))\n"
   ]
  },
  {
   "cell_type": "code",
   "execution_count": null,
   "metadata": {},
   "outputs": [],
   "source": [
    "dataset3_preds2 = dataset3_preds\n",
    "dataset3_preds2['label'] = model1.predict(dataTest)\n",
    "dataset3_preds2.label = MinMaxScaler(copy=True,feature_range=(0,1)).fit_transform(dataset3_preds2.label.reshape(-1,1))\n",
    "dataset3_preds2.sort_values(by=['coupon_id','label'],inplace=True)\n",
    "dataset3_preds2.to_csv(\"D:/MachineLearning/ofo/ofoOptimization/xgb_preds2.csv\",index=None,header=None)\n",
    "print(dataset3_preds2.describe())"
   ]
  },
  {
   "cell_type": "code",
   "execution_count": 8,
   "metadata": {},
   "outputs": [],
   "source": [
    "feature_score = model1.get_fscore()\n",
    "feature_score = sorted(feature_score.items(), key=lambda x:x[1],reverse=True)#value逆序排序\n",
    "\n",
    "fs = []\n",
    "for (key,value) in feature_score:\n",
    "    fs.append(\"{0},{1}\\n\".format(key,value))\n",
    " \n",
    "with open('D:/MachineLearning/ofo/ofoOptimization/xgb_feature_score.csv','w') as f:\n",
    "    f.writelines(\"feature,score\\n\")\n",
    "    f.writelines(fs)"
   ]
  },
  {
   "cell_type": "code",
   "execution_count": null,
   "metadata": {},
   "outputs": [],
   "source": []
  }
 ],
 "metadata": {
  "kernelspec": {
   "display_name": "Python 3",
   "language": "python",
   "name": "python3"
  },
  "language_info": {
   "codemirror_mode": {
    "name": "ipython",
    "version": 3
   },
   "file_extension": ".py",
   "mimetype": "text/x-python",
   "name": "python",
   "nbconvert_exporter": "python",
   "pygments_lexer": "ipython3",
   "version": "3.6.4"
  }
 },
 "nbformat": 4,
 "nbformat_minor": 2
}
